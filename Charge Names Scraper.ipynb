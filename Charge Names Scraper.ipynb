{
 "cells": [
  {
   "cell_type": "code",
   "execution_count": 678,
   "metadata": {},
   "outputs": [],
   "source": [
    "import xml.etree.ElementTree as ET"
   ]
  },
  {
   "cell_type": "code",
   "execution_count": 679,
   "metadata": {},
   "outputs": [],
   "source": [
    "class color:\n",
    "    BOLD = '\\033[1m'\n",
    "    END = '\\033[0m'"
   ]
  },
  {
   "cell_type": "markdown",
   "metadata": {},
   "source": [
    "# Add file directory here"
   ]
  },
  {
   "cell_type": "code",
   "execution_count": 680,
   "metadata": {},
   "outputs": [],
   "source": [
    "tree = ET.parse('Documents/Chips/Paylease_Sample_Seattle_10_15_19_15_19.xml')\n",
    "root = tree.getroot()"
   ]
  },
  {
   "cell_type": "code",
   "execution_count": 681,
   "metadata": {},
   "outputs": [],
   "source": [
    "meter = []\n",
    "account = []"
   ]
  },
  {
   "cell_type": "code",
   "execution_count": 682,
   "metadata": {},
   "outputs": [],
   "source": [
    "for i in root.findall(\"./statement/accounts/account/meters/meter/charges/charge/chargeActualName\"):\n",
    "    meter.append(i.text)\n",
    "for j in root.findall(\"./statement/accounts/account/charges/charge/chargeActualName\"):\n",
    "    account.append(j.text)"
   ]
  },
  {
   "cell_type": "code",
   "execution_count": 683,
   "metadata": {},
   "outputs": [
    {
     "name": "stdout",
     "output_type": "stream",
     "text": [
      "\u001b[1mThe Account Level Charges are :\n",
      "\n",
      "\u001b[0m\n",
      "Extra Yard Waste\n",
      "Current Adjustments\n",
      "Extra Garbage\n",
      "Cancel and Rebill Charges\n",
      "Current Water Service\n"
     ]
    }
   ],
   "source": [
    "print(color.BOLD + \"The Account Level Charges are :\\n\\n\"+ color.END)\n",
    "print('\\n'.join(map(str,  list(set(account)))))\n"
   ]
  },
  {
   "cell_type": "code",
   "execution_count": 684,
   "metadata": {},
   "outputs": [
    {
     "name": "stdout",
     "output_type": "stream",
     "text": [
      "\u001b[1m\n",
      "The Meter Level Charges are :\n",
      "\n",
      "\u001b[0m\n",
      "Current Solid Waste Service\n",
      "1-Food/Yard Waste/Liner 32 Gal 1X Weekly\n",
      "Base service charge\n",
      "Garbage Secure Building Fee\n",
      "Extra Yard Waste\n",
      "Dumpster Base Charge\n",
      "Extra Garbage\n",
      "Commercial Service\n",
      "2-Recycle Dumpster 2 Yd 2X Weekly\n",
      "2-Garbage Dumpster 2 Yd 2X Weekly\n",
      "Current Sewer Service\n",
      "Recycle Secure Building Fee\n",
      "3-Recycle Dumpster 1 Yd 1X Weekly\n",
      "Winter Commercial\n",
      "1-Food/Yard Waste/Liner 90 Gal 1X Weekly\n",
      "Power Factor Penalty\n",
      "2-Garbage Dumpster 1 Yd 1X Weekly\n",
      "Small General Energy\n",
      "Summer Commercial\n"
     ]
    }
   ],
   "source": [
    "print(color.BOLD + \"\\nThe Meter Level Charges are :\\n\\n\"+ color.END)\n",
    "print('\\n'.join(map(str, list(set(meter)))))"
   ]
  }
 ],
 "metadata": {
  "kernelspec": {
   "display_name": "Python 3",
   "language": "python",
   "name": "python3"
  },
  "language_info": {
   "codemirror_mode": {
    "name": "ipython",
    "version": 3
   },
   "file_extension": ".py",
   "mimetype": "text/x-python",
   "name": "python",
   "nbconvert_exporter": "python",
   "pygments_lexer": "ipython3",
   "version": "3.7.3"
  }
 },
 "nbformat": 4,
 "nbformat_minor": 2
}
